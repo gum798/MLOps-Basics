{
 "cells": [
  {
   "cell_type": "code",
   "execution_count": 40,
   "source": [
    "#!conda install tensorflow\r\n",
    "#!conda install pytorch\r\n",
    "#!conda install pytorch torchvision torchaudio cudatoolkit=11.1 -c pytorch -c conda-forge\r\n",
    "#!pip install pytorch-lightning\r\n",
    "#!conda install -c conda-forge pytorch-lightning\r\n",
    "#!pip install datasets\r\n",
    "#!pip install transformers\r\n",
    "#!conda install keras\r\n",
    "#!pip install wandb\r\n",
    "#!pip install sklearn"
   ],
   "outputs": [],
   "metadata": {}
  },
  {
   "cell_type": "code",
   "execution_count": 41,
   "source": [
    "import torch\r\n",
    "import pytorch_lightning as pl\r\n",
    "\r\n",
    "from datasets import load_dataset\r\n",
    "from transformers import AutoTokenizer\r\n",
    "import torch\r\n",
    "import wandb\r\n",
    "import numpy as np\r\n",
    "import pandas as pd\r\n",
    "from transformers import AutoModelForSequenceClassification\r\n",
    "import torchmetrics\r\n",
    "from sklearn.metrics import confusion_matrix\r\n",
    "# import matplotlib.pyplot as plt\r\n",
    "# import seaborn as sns\r\n",
    "from pytorch_lightning.callbacks import ModelCheckpoint\r\n",
    "from pytorch_lightning.callbacks.early_stopping import EarlyStopping\r\n",
    "from pytorch_lightning.loggers import WandbLogger\r\n",
    "from datasets import list_datasets, load_dataset"
   ],
   "outputs": [],
   "metadata": {}
  },
  {
   "cell_type": "code",
   "execution_count": 42,
   "source": [
    "\r\n",
    "datasets_list = list_datasets()\r\n",
    "len(datasets_list)\r\n",
    "# print(', '.join(dataset for dataset in datasets_list))\r\n",
    "wandb_logger = WandbLogger(project=\"MLOps Basics\")\r\n",
    "wandb.init(project=\"MLOps Basics\")"
   ],
   "outputs": [
    {
     "output_type": "display_data",
     "data": {
      "text/html": [
       "Finishing last run (ID:5psf78kn) before initializing another..."
      ],
      "text/plain": [
       "<IPython.core.display.HTML object>"
      ]
     },
     "metadata": {}
    },
    {
     "output_type": "display_data",
     "data": {
      "text/html": [
       "<br/>Waiting for W&B process to finish, PID 17796... <strong style=\"color:green\">(success).</strong>"
      ],
      "text/plain": [
       "<IPython.core.display.HTML object>"
      ]
     },
     "metadata": {}
    },
    {
     "output_type": "display_data",
     "data": {
      "application/vnd.jupyter.widget-view+json": {
       "version_major": 2,
       "version_minor": 0,
       "model_id": "144cf13280624faf86423c3963fc334f"
      },
      "text/plain": [
       "VBox(children=(Label(value=' 0.00MB of 0.00MB uploaded (0.00MB deduped)\\r'), FloatProgress(value=1.0, max=1.0)…"
      ]
     },
     "metadata": {}
    },
    {
     "output_type": "display_data",
     "data": {
      "text/html": [
       "<style>\n",
       "    table.wandb td:nth-child(1) { padding: 0 10px; text-align: right }\n",
       "    .wandb-row { display: flex; flex-direction: row; flex-wrap: wrap; width: 100% }\n",
       "    .wandb-col { display: flex; flex-direction: column; flex-basis: 100%; flex: 1; padding: 10px; }\n",
       "    </style>\n",
       "<div class=\"wandb-row\"><div class=\"wandb-col\">\n",
       "</div><div class=\"wandb-col\">\n",
       "</div></div>\n",
       "Synced 6 W&B file(s), 1 media file(s), 1 artifact file(s) and 0 other file(s)\n",
       "<br/>Synced <strong style=\"color:#cdcd00\">chocolate-wildflower-22</strong>: <a href=\"https://wandb.ai/jhseo/MLOps%20Basics/runs/5psf78kn\" target=\"_blank\">https://wandb.ai/jhseo/MLOps%20Basics/runs/5psf78kn</a><br/>\n",
       "Find logs at: <code>.\\wandb\\run-20211006_165252-5psf78kn\\logs</code><br/>\n"
      ],
      "text/plain": [
       "<IPython.core.display.HTML object>"
      ]
     },
     "metadata": {}
    },
    {
     "output_type": "display_data",
     "data": {
      "text/html": [
       "Successfully finished last run (ID:5psf78kn). Initializing new run:<br/>"
      ],
      "text/plain": [
       "<IPython.core.display.HTML object>"
      ]
     },
     "metadata": {}
    },
    {
     "output_type": "stream",
     "name": "stderr",
     "text": [
      "\u001b[34m\u001b[1mwandb\u001b[0m: wandb version 0.12.4 is available!  To upgrade, please run:\n",
      "\u001b[34m\u001b[1mwandb\u001b[0m:  $ pip install wandb --upgrade\n"
     ]
    },
    {
     "output_type": "display_data",
     "data": {
      "text/html": [
       "\n",
       "                    Syncing run <strong><a href=\"https://wandb.ai/jhseo/MLOps%20Basics/runs/3f1gg6cf\" target=\"_blank\">dazzling-valley-23</a></strong> to <a href=\"https://wandb.ai/jhseo/MLOps%20Basics\" target=\"_blank\">Weights & Biases</a> (<a href=\"https://docs.wandb.com/integrations/jupyter.html\" target=\"_blank\">docs</a>).<br/>\n",
       "\n",
       "                "
      ],
      "text/plain": [
       "<IPython.core.display.HTML object>"
      ]
     },
     "metadata": {}
    },
    {
     "output_type": "execute_result",
     "data": {
      "text/html": [
       "<button onClick=\"this.nextSibling.style.display='block';this.style.display='none';\">Display W&B run</button><iframe src=\"https://wandb.ai/jhseo/MLOps%20Basics/runs/3f1gg6cf?jupyter=true\" style=\"border:none;width:100%;height:420px;display:none;\"></iframe>"
      ],
      "text/plain": [
       "<wandb.sdk.wandb_run.Run at 0x284a154d8e0>"
      ]
     },
     "metadata": {},
     "execution_count": 42
    }
   ],
   "metadata": {}
  },
  {
   "cell_type": "code",
   "execution_count": 43,
   "source": [
    "cola_dataset = load_dataset(\"glue\", \"cola\")\r\n",
    "print(cola_dataset)"
   ],
   "outputs": [
    {
     "output_type": "stream",
     "name": "stderr",
     "text": [
      "Reusing dataset glue (C:\\Users\\jhseo\\.cache\\huggingface\\datasets\\glue\\cola\\1.0.0\\dacbe3125aa31d7f70367a07a8a9e72a5a0bfeb5fc42e75c9db75b96da6053ad)\n",
      "100%|██████████| 3/3 [00:00<00:00, 429.74it/s]"
     ]
    },
    {
     "output_type": "stream",
     "name": "stdout",
     "text": [
      "DatasetDict({\n",
      "    train: Dataset({\n",
      "        features: ['sentence', 'label', 'idx'],\n",
      "        num_rows: 8551\n",
      "    })\n",
      "    validation: Dataset({\n",
      "        features: ['sentence', 'label', 'idx'],\n",
      "        num_rows: 1043\n",
      "    })\n",
      "    test: Dataset({\n",
      "        features: ['sentence', 'label', 'idx'],\n",
      "        num_rows: 1063\n",
      "    })\n",
      "})\n"
     ]
    },
    {
     "output_type": "stream",
     "name": "stderr",
     "text": [
      "\n"
     ]
    }
   ],
   "metadata": {}
  },
  {
   "cell_type": "code",
   "execution_count": 44,
   "source": [
    "train_dataset = cola_dataset['train']\r\n",
    "print(train_dataset[0])"
   ],
   "outputs": [
    {
     "output_type": "stream",
     "name": "stdout",
     "text": [
      "{'sentence': \"Our friends won't buy this analysis, let alone the next one we propose.\", 'label': 1, 'idx': 0}\n"
     ]
    }
   ],
   "metadata": {}
  },
  {
   "cell_type": "code",
   "execution_count": 45,
   "source": [
    "class DataModule(pl.LightningDataModule):\r\n",
    "    def __init__(self, model_name=\"google/bert_uncased_L-2_H-128_A-2\", batch_size=64):\r\n",
    "        super().__init__()\r\n",
    "\r\n",
    "        self.batch_size = batch_size\r\n",
    "        self.tokenizer = AutoTokenizer.from_pretrained(model_name)\r\n",
    "\r\n",
    "    def prepare_data(self):\r\n",
    "        cola_dataset = load_dataset(\"glue\", \"cola\")\r\n",
    "        self.train_data = cola_dataset[\"train\"]\r\n",
    "        self.val_data = cola_dataset[\"validation\"]\r\n",
    "\r\n",
    "    def tokenize_data(self, example):\r\n",
    "        return self.tokenizer(\r\n",
    "            example[\"sentence\"],\r\n",
    "            truncation=True,\r\n",
    "            padding=\"max_length\",\r\n",
    "            max_length=128,\r\n",
    "        )\r\n",
    "\r\n",
    "    def setup(self, stage=None):\r\n",
    "        # we set up only relevant datasets when stage is specified\r\n",
    "        if stage == \"fit\" or stage is None:\r\n",
    "            self.train_data = self.train_data.map(self.tokenize_data, batched=True)\r\n",
    "            self.train_data.set_format(\r\n",
    "                type=\"torch\", columns=[\"input_ids\", \"attention_mask\", \"label\"]\r\n",
    "            )\r\n",
    "\r\n",
    "            self.val_data = self.val_data.map(self.tokenize_data, batched=True)\r\n",
    "            self.val_data.set_format(\r\n",
    "                type=\"torch\",\r\n",
    "                columns=[\"input_ids\", \"attention_mask\", \"label\"],\r\n",
    "                output_all_columns=True,\r\n",
    "            )\r\n",
    "\r\n",
    "    def train_dataloader(self):\r\n",
    "        return torch.utils.data.DataLoader(\r\n",
    "            self.train_data, batch_size=self.batch_size, shuffle=True\r\n",
    "        )\r\n",
    "\r\n",
    "    def val_dataloader(self):\r\n",
    "        return torch.utils.data.DataLoader(\r\n",
    "            self.val_data, batch_size=self.batch_size, shuffle=False\r\n",
    "        )"
   ],
   "outputs": [],
   "metadata": {}
  },
  {
   "cell_type": "code",
   "execution_count": 46,
   "source": [
    "class ColaModel(pl.LightningModule):\r\n",
    "    def __init__(self, model_name=\"google/bert_uncased_L-2_H-128_A-2\", lr=3e-5):\r\n",
    "        super(ColaModel, self).__init__()\r\n",
    "        self.save_hyperparameters()\r\n",
    "\r\n",
    "        self.bert = AutoModelForSequenceClassification.from_pretrained(\r\n",
    "            model_name, num_labels=2\r\n",
    "        )\r\n",
    "        self.num_classes = 2\r\n",
    "        self.train_accuracy_metric = torchmetrics.Accuracy()\r\n",
    "        self.val_accuracy_metric = torchmetrics.Accuracy()\r\n",
    "        self.f1_metric = torchmetrics.F1(num_classes=self.num_classes)\r\n",
    "        self.precision_macro_metric = torchmetrics.Precision(\r\n",
    "            average=\"macro\", num_classes=self.num_classes\r\n",
    "        )\r\n",
    "        self.recall_macro_metric = torchmetrics.Recall(\r\n",
    "            average=\"macro\", num_classes=self.num_classes\r\n",
    "        )\r\n",
    "        self.precision_micro_metric = torchmetrics.Precision(average=\"micro\")\r\n",
    "        self.recall_micro_metric = torchmetrics.Recall(average=\"micro\")\r\n",
    "\r\n",
    "    def forward(self, input_ids, attention_mask, labels=None):\r\n",
    "        outputs = self.bert(\r\n",
    "            input_ids=input_ids, attention_mask=attention_mask, labels=labels\r\n",
    "        )\r\n",
    "        return outputs\r\n",
    "\r\n",
    "    def training_step(self, batch, batch_idx):\r\n",
    "        outputs = self.forward(\r\n",
    "            batch[\"input_ids\"], batch[\"attention_mask\"], labels=batch[\"label\"]\r\n",
    "        )\r\n",
    "        # loss = F.cross_entropy(logits, batch[\"label\"])\r\n",
    "        preds = torch.argmax(outputs.logits, 1)\r\n",
    "        train_acc = self.train_accuracy_metric(preds, batch[\"label\"])\r\n",
    "        self.log(\"train/loss\", outputs.loss, prog_bar=True, on_epoch=True)\r\n",
    "        self.log(\"train/acc\", train_acc, prog_bar=True, on_epoch=True)\r\n",
    "        return outputs.loss\r\n",
    "\r\n",
    "    def validation_step(self, batch, batch_idx):\r\n",
    "        labels = batch[\"label\"]\r\n",
    "        outputs = self.forward(\r\n",
    "            batch[\"input_ids\"], batch[\"attention_mask\"], labels=batch[\"label\"]\r\n",
    "        )\r\n",
    "        preds = torch.argmax(outputs.logits, 1)\r\n",
    "\r\n",
    "        # Metrics\r\n",
    "        valid_acc = self.val_accuracy_metric(preds, labels)\r\n",
    "        precision_macro = self.precision_macro_metric(preds, labels)\r\n",
    "        recall_macro = self.recall_macro_metric(preds, labels)\r\n",
    "        precision_micro = self.precision_micro_metric(preds, labels)\r\n",
    "        recall_micro = self.recall_micro_metric(preds, labels)\r\n",
    "        f1 = self.f1_metric(preds, labels)\r\n",
    "\r\n",
    "        # Logging metrics\r\n",
    "        self.log(\"valid/loss\", outputs.loss, prog_bar=True, on_step=True)\r\n",
    "        self.log(\"valid/acc\", valid_acc, prog_bar=True, on_epoch=True)\r\n",
    "        self.log(\"valid/precision_macro\", precision_macro, prog_bar=True, on_epoch=True)\r\n",
    "        self.log(\"valid/recall_macro\", recall_macro, prog_bar=True, on_epoch=True)\r\n",
    "        self.log(\"valid/precision_micro\", precision_micro, prog_bar=True, on_epoch=True)\r\n",
    "        self.log(\"valid/recall_micro\", recall_micro, prog_bar=True, on_epoch=True)\r\n",
    "        self.log(\"valid/f1\", f1, prog_bar=True, on_epoch=True)\r\n",
    "        return {\"labels\": labels, \"logits\": outputs.logits}\r\n",
    "\r\n",
    "    def validation_epoch_end(self, outputs):\r\n",
    "        labels = torch.cat([x[\"labels\"] for x in outputs])\r\n",
    "        logits = torch.cat([x[\"logits\"] for x in outputs])\r\n",
    "        preds = torch.argmax(logits, 1)\r\n",
    "\r\n",
    "        ## There are multiple ways to track the metrics\r\n",
    "        # 1. Confusion matrix plotting using inbuilt W&B method\r\n",
    "        self.logger.experiment.log(\r\n",
    "            {\r\n",
    "                \"conf\": wandb.plot.confusion_matrix(\r\n",
    "                    # probs=logits.numpy(), y_true=labels.numpy()\r\n",
    "                    probs=logits.cpu().numpy(), y_true=labels.cpu().numpy()\r\n",
    "                )\r\n",
    "            }\r\n",
    "        )\r\n",
    "\r\n",
    "        # 2. Confusion Matrix plotting using scikit-learn method\r\n",
    "        # wandb.log({\"cm\": wandb.sklearn.plot_confusion_matrix(labels.numpy(), preds)})\r\n",
    "\r\n",
    "        # 3. Confusion Matric plotting using Seaborn\r\n",
    "        # data = confusion_matrix(labels.numpy(), preds.numpy())\r\n",
    "        # df_cm = pd.DataFrame(data, columns=np.unique(labels), index=np.unique(labels))\r\n",
    "        # df_cm.index.name = \"Actual\"\r\n",
    "        # df_cm.columns.name = \"Predicted\"\r\n",
    "        # plt.figure(figsize=(7, 4))\r\n",
    "        # plot = sns.heatmap(\r\n",
    "        #     df_cm, cmap=\"Blues\", annot=True, annot_kws={\"size\": 16}\r\n",
    "        # )  # font size\r\n",
    "        # self.logger.experiment.log({\"Confusion Matrix\": wandb.Image(plot)})\r\n",
    "\r\n",
    "        # self.logger.experiment.log(\r\n",
    "        #     {\"roc\": wandb.plot.roc_curve(labels.numpy(), logits.numpy())}\r\n",
    "        # )\r\n",
    "\r\n",
    "    def configure_optimizers(self):\r\n",
    "        return torch.optim.Adam(self.parameters(), lr=self.hparams[\"lr\"])"
   ],
   "outputs": [],
   "metadata": {}
  },
  {
   "cell_type": "code",
   "execution_count": 47,
   "source": [
    "class SamplesVisualisationLogger(pl.Callback):\r\n",
    "    def __init__(self, datamodule):\r\n",
    "        super().__init__()\r\n",
    "\r\n",
    "        self.datamodule = datamodule\r\n",
    "\r\n",
    "    def on_validation_end(self, trainer, pl_module):\r\n",
    "        val_batch = next(iter(self.datamodule.val_dataloader()))\r\n",
    "        sentences = val_batch[\"sentence\"]\r\n",
    "\r\n",
    "        outputs = pl_module(val_batch[\"input_ids\"], val_batch[\"attention_mask\"])\r\n",
    "        preds = torch.argmax(outputs.logits, 1)\r\n",
    "        labels = val_batch[\"label\"]\r\n",
    "\r\n",
    "        df = pd.DataFrame(\r\n",
    "            {\"Sentence\": sentences, \"Label\": labels.numpy(), \"Predicted\": preds.numpy()}\r\n",
    "        )\r\n",
    "\r\n",
    "        wrong_df = df[df[\"Label\"] != df[\"Predicted\"]]\r\n",
    "        trainer.logger.experiment.log(\r\n",
    "            {\r\n",
    "                \"examples\": wandb.Table(dataframe=wrong_df, allow_mixed_types=True),\r\n",
    "                \"global_step\": trainer.global_step,\r\n",
    "            }\r\n",
    "        )"
   ],
   "outputs": [],
   "metadata": {}
  },
  {
   "cell_type": "code",
   "execution_count": 48,
   "source": [
    "cola_data = DataModule()\r\n",
    "cola_model = ColaModel()\r\n",
    "\r\n",
    "checkpoint_callback = ModelCheckpoint(\r\n",
    "        dirpath=\"./models\",\r\n",
    "        filename=\"best-checkpoint\",\r\n",
    "        monitor=\"valid/loss\",\r\n",
    "        mode=\"min\",\r\n",
    "    )\r\n",
    "\r\n",
    "early_stopping_callback = EarlyStopping(\r\n",
    "    monitor=\"valid/loss\", patience=3, verbose=True, mode=\"min\"\r\n",
    ")\r\n",
    "\r\n",
    "wandb_logger = WandbLogger(project=\"MLOps Basics\", entity=\"raviraja\")\r\n",
    "trainer = pl.Trainer(\r\n",
    "    max_epochs=1,\r\n",
    "    logger=wandb_logger,\r\n",
    "    callbacks=[checkpoint_callback, SamplesVisualisationLogger(cola_data), early_stopping_callback],\r\n",
    "    log_every_n_steps=10,\r\n",
    "    deterministic=True,\r\n",
    "    # limit_train_batches=0.25,\r\n",
    "    # limit_val_batches=0.25\r\n",
    "    # fast_dev_run=True,\r\n",
    "    # gpus=(1 if torch.cuda.is_available() else 0)\r\n",
    ")\r\n",
    "trainer.fit(cola_model, cola_data)"
   ],
   "outputs": [
    {
     "output_type": "stream",
     "name": "stderr",
     "text": [
      "Some weights of the model checkpoint at google/bert_uncased_L-2_H-128_A-2 were not used when initializing BertForSequenceClassification: ['cls.seq_relationship.bias', 'cls.predictions.transform.dense.weight', 'cls.seq_relationship.weight', 'cls.predictions.transform.LayerNorm.weight', 'cls.predictions.decoder.weight', 'cls.predictions.decoder.bias', 'cls.predictions.bias', 'cls.predictions.transform.dense.bias', 'cls.predictions.transform.LayerNorm.bias']\n",
      "- This IS expected if you are initializing BertForSequenceClassification from the checkpoint of a model trained on another task or with another architecture (e.g. initializing a BertForSequenceClassification model from a BertForPreTraining model).\n",
      "- This IS NOT expected if you are initializing BertForSequenceClassification from the checkpoint of a model that you expect to be exactly identical (initializing a BertForSequenceClassification model from a BertForSequenceClassification model).\n",
      "Some weights of BertForSequenceClassification were not initialized from the model checkpoint at google/bert_uncased_L-2_H-128_A-2 and are newly initialized: ['classifier.bias', 'classifier.weight']\n",
      "You should probably TRAIN this model on a down-stream task to be able to use it for predictions and inference.\n",
      "GPU available: True, used: False\n",
      "TPU available: False, using: 0 TPU cores\n",
      "IPU available: False, using: 0 IPUs\n",
      "Reusing dataset glue (C:\\Users\\jhseo\\.cache\\huggingface\\datasets\\glue\\cola\\1.0.0\\dacbe3125aa31d7f70367a07a8a9e72a5a0bfeb5fc42e75c9db75b96da6053ad)\n",
      "100%|██████████| 3/3 [00:00<00:00, 601.68it/s]\n",
      "100%|██████████| 9/9 [00:00<00:00, 20.44ba/s]\n",
      "100%|██████████| 2/2 [00:00<00:00, 27.84ba/s]\n",
      "\n",
      "  | Name                   | Type                          | Params\n",
      "-------------------------------------------------------------------------\n",
      "0 | bert                   | BertForSequenceClassification | 4.4 M \n",
      "1 | train_accuracy_metric  | Accuracy                      | 0     \n",
      "2 | val_accuracy_metric    | Accuracy                      | 0     \n",
      "3 | f1_metric              | F1                            | 0     \n",
      "4 | precision_macro_metric | Precision                     | 0     \n",
      "5 | recall_macro_metric    | Recall                        | 0     \n",
      "6 | precision_micro_metric | Precision                     | 0     \n",
      "7 | recall_micro_metric    | Recall                        | 0     \n",
      "-------------------------------------------------------------------------\n",
      "4.4 M     Trainable params\n",
      "0         Non-trainable params\n",
      "4.4 M     Total params\n",
      "17.545    Total estimated model params size (MB)\n"
     ]
    },
    {
     "output_type": "stream",
     "name": "stdout",
     "text": [
      "Epoch 0: 100%|██████████| 151/151 [00:53<00:00,  2.82it/s, loss=0.622, v_num=g6cf, train/loss_step=0.634, train/acc_step=0.667, valid/loss_step=0.491, valid/loss_epoch=0.617, valid/acc=0.691, valid/precision_macro=0.346, valid/recall_macro=0.500, valid/precision_micro=0.691, valid/recall_micro=0.691, valid/f1=0.691]"
     ]
    },
    {
     "output_type": "stream",
     "name": "stderr",
     "text": [
      "Metric valid/loss improved. New best score: 0.617\n"
     ]
    },
    {
     "output_type": "stream",
     "name": "stdout",
     "text": [
      "Epoch 0: 100%|██████████| 151/151 [00:54<00:00,  2.81it/s, loss=0.622, v_num=g6cf, train/loss_step=0.634, train/acc_step=0.667, valid/loss_step=0.491, valid/loss_epoch=0.617, valid/acc=0.691, valid/precision_macro=0.346, valid/recall_macro=0.500, valid/precision_micro=0.691, valid/recall_micro=0.691, valid/f1=0.691]\n"
     ]
    }
   ],
   "metadata": {}
  },
  {
   "cell_type": "code",
   "execution_count": 49,
   "source": [
    "class ColaPredictor:\r\n",
    "    def __init__(self, model_path):\r\n",
    "        self.model_path = model_path\r\n",
    "        self.model = ColaModel.load_from_checkpoint(model_path)\r\n",
    "        self.model.eval()\r\n",
    "        self.model.freeze()\r\n",
    "        self.processor = DataModule()\r\n",
    "        self.softmax = torch.nn.Softmax(dim=0)\r\n",
    "        self.lables = [\"unacceptable\", \"acceptable\"]\r\n",
    "\r\n",
    "    def predict(self, text):\r\n",
    "        inference_sample = {\"sentence\": text}\r\n",
    "        processed = self.processor.tokenize_data(inference_sample)\r\n",
    "        logits = self.model(\r\n",
    "            torch.tensor([processed[\"input_ids\"]]),\r\n",
    "            torch.tensor([processed[\"attention_mask\"]]),\r\n",
    "        )\r\n",
    "        scores = self.softmax(logits[0]).tolist()\r\n",
    "        predictions = []\r\n",
    "        for score, label in zip(scores, self.lables):\r\n",
    "            predictions.append({\"label\": label, \"score\": score})\r\n",
    "        return predictions"
   ],
   "outputs": [],
   "metadata": {}
  },
  {
   "cell_type": "code",
   "execution_count": 50,
   "source": [
    "# setting device on GPU if available, else CPU\r\n",
    "device = torch.device('cuda' if torch.cuda.is_available() else 'cpu')\r\n",
    "print('Using device:', device)\r\n",
    "print()\r\n",
    "\r\n",
    "#Additional Info when using cuda\r\n",
    "if device.type == 'cuda':\r\n",
    "    print(torch.cuda.get_device_name(0))\r\n",
    "    print('Memory Usage:')\r\n",
    "    print('Allocated:', round(torch.cuda.memory_allocated(0)/1024**3,1), 'GB')\r\n",
    "    print('Cached:   ', round(torch.cuda.memory_reserved(0)/1024**3,1), 'GB')"
   ],
   "outputs": [
    {
     "output_type": "stream",
     "name": "stdout",
     "text": [
      "Using device: cuda\n",
      "\n",
      "NVIDIA GeForce RTX 3060 Laptop GPU\n",
      "Memory Usage:\n",
      "Allocated: 0.0 GB\n",
      "Cached:    0.0 GB\n"
     ]
    }
   ],
   "metadata": {}
  },
  {
   "cell_type": "code",
   "execution_count": 51,
   "source": [
    "\r\n",
    "sentence = \"The boy is sitting on a bench\"\r\n",
    "predictor = ColaPredictor(\"./models/best-checkpoint.ckpt\")\r\n",
    "print(predictor.predict(sentence))\r\n"
   ],
   "outputs": [
    {
     "output_type": "stream",
     "name": "stderr",
     "text": [
      "Some weights of the model checkpoint at google/bert_uncased_L-2_H-128_A-2 were not used when initializing BertForSequenceClassification: ['cls.seq_relationship.bias', 'cls.predictions.transform.dense.weight', 'cls.seq_relationship.weight', 'cls.predictions.transform.LayerNorm.weight', 'cls.predictions.decoder.weight', 'cls.predictions.decoder.bias', 'cls.predictions.bias', 'cls.predictions.transform.dense.bias', 'cls.predictions.transform.LayerNorm.bias']\n",
      "- This IS expected if you are initializing BertForSequenceClassification from the checkpoint of a model trained on another task or with another architecture (e.g. initializing a BertForSequenceClassification model from a BertForPreTraining model).\n",
      "- This IS NOT expected if you are initializing BertForSequenceClassification from the checkpoint of a model that you expect to be exactly identical (initializing a BertForSequenceClassification model from a BertForSequenceClassification model).\n",
      "Some weights of BertForSequenceClassification were not initialized from the model checkpoint at google/bert_uncased_L-2_H-128_A-2 and are newly initialized: ['classifier.bias', 'classifier.weight']\n",
      "You should probably TRAIN this model on a down-stream task to be able to use it for predictions and inference.\n"
     ]
    },
    {
     "output_type": "stream",
     "name": "stdout",
     "text": [
      "[{'label': 'unacceptable', 'score': [1.0, 1.0]}]\n"
     ]
    }
   ],
   "metadata": {}
  },
  {
   "cell_type": "code",
   "execution_count": null,
   "source": [],
   "outputs": [],
   "metadata": {}
  }
 ],
 "metadata": {
  "orig_nbformat": 4,
  "language_info": {
   "name": "python",
   "version": "3.8.11",
   "mimetype": "text/x-python",
   "codemirror_mode": {
    "name": "ipython",
    "version": 3
   },
   "pygments_lexer": "ipython3",
   "nbconvert_exporter": "python",
   "file_extension": ".py"
  },
  "kernelspec": {
   "name": "python3",
   "display_name": "Python 3.8.11 64-bit ('mlops': conda)"
  },
  "interpreter": {
   "hash": "8e45873a4542e3cc3866bc5e6205c41a5b64d8a4fb25e1bd2147562e54ef506d"
  }
 },
 "nbformat": 4,
 "nbformat_minor": 2
}